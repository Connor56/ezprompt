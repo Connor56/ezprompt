{
 "cells": [
  {
   "cell_type": "markdown",
   "metadata": {},
   "source": [
    "# How to run a simple call to gpt-4o"
   ]
  },
  {
   "cell_type": "code",
   "execution_count": null,
   "metadata": {},
   "outputs": [],
   "source": [
    "%load_ext autoreload\n",
    "%autoreload 2\n",
    "\n",
    "import os\n",
    "from ezprompt import Prompt\n",
    "from dotenv import load_dotenv\n",
    "\n",
    "load_dotenv(\"../.env\")\n",
    "\n",
    "simple_jinja_template = \"What was the weather like at Agincourt on {{ date }}?\"\n",
    "inputs = {\"date\": \"1415-10-25\"}\n",
    "api_key = os.getenv(\"OPENAI_API_KEY\")\n",
    "\n",
    "prompt = Prompt(\n",
    "    template=simple_jinja_template,\n",
    "    inputs={\"date\": \"1415-10-25\"},\n",
    "    model=\"gpt-4o\",\n",
    "    api_key=api_key,\n",
    ")\n",
    "\n",
    "await prompt.send()"
   ]
  }
 ],
 "metadata": {
  "kernelspec": {
   "display_name": "ezprompt-LW0TyOOf-py3.12",
   "language": "python",
   "name": "python3"
  },
  "language_info": {
   "codemirror_mode": {
    "name": "ipython",
    "version": 3
   },
   "file_extension": ".py",
   "mimetype": "text/x-python",
   "name": "python",
   "nbconvert_exporter": "python",
   "pygments_lexer": "ipython3",
   "version": "3.12.3"
  }
 },
 "nbformat": 4,
 "nbformat_minor": 2
}
